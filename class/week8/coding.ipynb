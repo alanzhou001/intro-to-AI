{
 "cells": [
  {
   "cell_type": "code",
   "execution_count": null,
   "metadata": {},
   "outputs": [],
   "source": [
    "def build_markov_chain(reviews):\n",
    "    markov_chain = {}\n",
    "    for review in reviews:\n",
    "        words = review.split()\n",
    "        for i in range(len(words) - 1):\n",
    "            if words[i] not in markov_chain:\n",
    "                markov_chain[words[i]] = {}\n",
    "            if words[i + 1] not in markov_chain[words[i]]:\n",
    "                markov_chain[words[i]] = [words[i + 1]]\n",
    "    return markov_chain\n",
    "\n"
   ]
  }
 ],
 "metadata": {
  "kernelspec": {
   "display_name": "IntroAi",
   "language": "python",
   "name": "python3"
  },
  "language_info": {
   "name": "python",
   "version": "3.10.14"
  }
 },
 "nbformat": 4,
 "nbformat_minor": 2
}
